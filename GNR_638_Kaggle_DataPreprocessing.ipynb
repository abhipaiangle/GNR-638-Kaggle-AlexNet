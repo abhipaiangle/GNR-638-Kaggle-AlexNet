{
  "nbformat": 4,
  "nbformat_minor": 0,
  "metadata": {
    "colab": {
      "name": "GNR-638-Kaggle-DataPreprocessing.ipynb",
      "provenance": [],
      "collapsed_sections": []
    },
    "kernelspec": {
      "display_name": "Python 3",
      "name": "python3"
    }
  },
  "cells": [
    {
      "cell_type": "code",
      "metadata": {
        "id": "C4Jf2VtTwkEh",
        "outputId": "ec564fe7-30b5-400b-9ffd-fee868f25074",
        "colab": {
          "base_uri": "https://localhost:8080/",
          "height": 173
        }
      },
      "source": [
        "import cv2\n",
        "import numpy as np\n",
        "import pandas as pd\n",
        "!pip install Augmentor\n",
        "import Augmentor"
      ],
      "execution_count": null,
      "outputs": [
        {
          "output_type": "stream",
          "text": [
            "Collecting Augmentor\n",
            "  Downloading https://files.pythonhosted.org/packages/cb/79/861f38d5830cff631e30e33b127076bfef8ac98171e51daa06df0118c75f/Augmentor-0.2.8-py2.py3-none-any.whl\n",
            "Requirement already satisfied: numpy>=1.11.0 in /usr/local/lib/python3.6/dist-packages (from Augmentor) (1.18.5)\n",
            "Requirement already satisfied: future>=0.16.0 in /usr/local/lib/python3.6/dist-packages (from Augmentor) (0.16.0)\n",
            "Requirement already satisfied: Pillow>=5.2.0 in /usr/local/lib/python3.6/dist-packages (from Augmentor) (7.0.0)\n",
            "Requirement already satisfied: tqdm>=4.9.0 in /usr/local/lib/python3.6/dist-packages (from Augmentor) (4.41.1)\n",
            "Installing collected packages: Augmentor\n",
            "Successfully installed Augmentor-0.2.8\n"
          ],
          "name": "stdout"
        }
      ]
    },
    {
      "cell_type": "code",
      "metadata": {
        "id": "pp17a1C1xHdO",
        "outputId": "80905a6f-af4c-4f03-c7d9-1436b03f2777",
        "colab": {
          "base_uri": "https://localhost:8080/",
          "height": 34
        }
      },
      "source": [
        "from google.colab import drive\n",
        "drive.mount('/content/drive')\n",
        "dir = \"/content/drive/My Drive/GNR 638 Kaggle\""
      ],
      "execution_count": null,
      "outputs": [
        {
          "output_type": "stream",
          "text": [
            "Mounted at /content/drive\n"
          ],
          "name": "stdout"
        }
      ]
    },
    {
      "cell_type": "code",
      "metadata": {
        "id": "nrdVLXTlEuGi"
      },
      "source": [
        "import os\n",
        "os.getcwd()\n",
        "os.chdir(dir)"
      ],
      "execution_count": null,
      "outputs": []
    },
    {
      "cell_type": "code",
      "metadata": {
        "id": "wyGIDpVaClPO"
      },
      "source": [
        "classes = [\"basketball_court\",\"beach\",\"forest\",\"railway\",\"tennis_court\",\"swimming_pool\"],#\"others\"]"
      ],
      "execution_count": null,
      "outputs": []
    },
    {
      "cell_type": "code",
      "metadata": {
        "id": "fjC-7bcn7Ng4",
        "outputId": "f9ec59f4-8329-4f51-e430-ed314661b098",
        "colab": {
          "background_save": true
        }
      },
      "source": [
        "for i in classes:\n",
        "  p = Augmentor.Pipeline(dir + \"/train/\" + i)\n",
        "  p.rotate(probability=0.7, max_left_rotation=10, max_right_rotation=10)\n",
        "  p.zoom_random(probability=0.3,percentage_area =0.8, randomise_percentage_area=True)\n",
        "  p.flip_left_right(probability=0.4)\n",
        "  p.flip_top_bottom(probability=0.4)\n",
        "  p.random_erasing(probability=0.2,rectangle_area=0.8)\n",
        "  p.sample(500)"
      ],
      "execution_count": null,
      "outputs": [
        {
          "output_type": "stream",
          "text": [
            "Processing <PIL.Image.Image image mode=RGB size=256x256 at 0x7FEBB1119BE0>:   1%|          | 5/500 [00:00<00:52,  9.41 Samples/s]"
          ],
          "name": "stderr"
        },
        {
          "output_type": "stream",
          "text": [
            "Initialised with 64 image(s) found.\n",
            "Output directory set to /content/drive/My Drive/GNR 638 Kaggle/train/basketball_court/output."
          ],
          "name": "stdout"
        },
        {
          "output_type": "stream",
          "text": [
            "Processing <PIL.Image.Image image mode=RGB size=256x256 at 0x7FEBAB7ED7F0>: 100%|██████████| 500/500 [00:08<00:00, 59.67 Samples/s]\n",
            "Processing <PIL.Image.Image image mode=RGB size=256x256 at 0x7FEBB118F2E8>:   1%|          | 4/500 [00:00<00:13, 37.33 Samples/s]"
          ],
          "name": "stderr"
        },
        {
          "output_type": "stream",
          "text": [
            "Initialised with 80 image(s) found.\n",
            "Output directory set to /content/drive/My Drive/GNR 638 Kaggle/train/beach/output."
          ],
          "name": "stdout"
        },
        {
          "output_type": "stream",
          "text": [
            "Processing <PIL.Image.Image image mode=RGB size=256x256 at 0x7FEBAB7F2128>: 100%|██████████| 500/500 [00:08<00:00, 58.48 Samples/s]\n",
            "Processing <PIL.Image.Image image mode=RGB size=256x256 at 0x7FEBAB7E5E48>:   0%|          | 1/500 [00:00<01:18,  6.32 Samples/s]"
          ],
          "name": "stderr"
        },
        {
          "output_type": "stream",
          "text": [
            "Initialised with 80 image(s) found.\n",
            "Output directory set to /content/drive/My Drive/GNR 638 Kaggle/train/forest/output."
          ],
          "name": "stdout"
        },
        {
          "output_type": "stream",
          "text": [
            "Processing <PIL.Image.Image image mode=RGB size=256x256 at 0x7FEBB11874E0>: 100%|██████████| 500/500 [00:08<00:00, 58.00 Samples/s]\n",
            "Processing <PIL.Image.Image image mode=RGB size=256x256 at 0x7FEBAB7E54E0>:   0%|          | 1/500 [00:00<01:26,  5.77 Samples/s]"
          ],
          "name": "stderr"
        },
        {
          "output_type": "stream",
          "text": [
            "Initialised with 80 image(s) found.\n",
            "Output directory set to /content/drive/My Drive/GNR 638 Kaggle/train/railway/output."
          ],
          "name": "stdout"
        },
        {
          "output_type": "stream",
          "text": [
            "Processing <PIL.Image.Image image mode=RGB size=256x256 at 0x7FEBAB7ED710>: 100%|██████████| 500/500 [00:09<00:00, 55.41 Samples/s]\n",
            "Processing <PIL.Image.Image image mode=RGB size=256x256 at 0x7FEBB118F160>:   1%|          | 3/500 [00:00<01:00,  8.19 Samples/s]"
          ],
          "name": "stderr"
        },
        {
          "output_type": "stream",
          "text": [
            "Initialised with 80 image(s) found.\n",
            "Output directory set to /content/drive/My Drive/GNR 638 Kaggle/train/tennis_court/output."
          ],
          "name": "stdout"
        },
        {
          "output_type": "stream",
          "text": [
            "Processing <PIL.Image.Image image mode=RGB size=256x256 at 0x7FEBAB7F2748>: 100%|██████████| 500/500 [00:08<00:00, 59.99 Samples/s]\n",
            "Executing Pipeline:   0%|          | 0/500 [00:00<?, ? Samples/s]"
          ],
          "name": "stderr"
        },
        {
          "output_type": "stream",
          "text": [
            "Initialised with 80 image(s) found.\n",
            "Output directory set to /content/drive/My Drive/GNR 638 Kaggle/train/swimming_pool/output."
          ],
          "name": "stdout"
        },
        {
          "output_type": "stream",
          "text": [
            "Processing <PIL.Image.Image image mode=RGB size=256x256 at 0x7FEBAB7F2B38>: 100%|██████████| 500/500 [00:08<00:00, 58.38 Samples/s]\n",
            "Processing <PIL.Image.Image image mode=RGB size=256x256 at 0x7FEBAB839AC8>:   0%|          | 1/500 [00:00<00:58,  8.51 Samples/s]"
          ],
          "name": "stderr"
        },
        {
          "output_type": "stream",
          "text": [
            "Initialised with 80 image(s) found.\n",
            "Output directory set to /content/drive/My Drive/GNR 638 Kaggle/train/others/output."
          ],
          "name": "stdout"
        },
        {
          "output_type": "stream",
          "text": [
            "Processing <PIL.Image.Image image mode=RGB size=256x256 at 0x7FEBAC8AC320>: 100%|██████████| 500/500 [00:08<00:00, 58.37 Samples/s]\n"
          ],
          "name": "stderr"
        }
      ]
    }
  ]
}